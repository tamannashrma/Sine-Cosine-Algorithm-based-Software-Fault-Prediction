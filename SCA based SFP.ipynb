{
 "cells": [
  {
   "cell_type": "markdown",
   "id": "a6faf9b1",
   "metadata": {},
   "source": [
    "Importing relevant Libraries"
   ]
  },
  {
   "cell_type": "code",
   "execution_count": 5,
   "id": "5b435352",
   "metadata": {},
   "outputs": [],
   "source": [
    "import numpy as np\n",
    "import pandas as pd\n",
    "from sklearn.neighbors import KNeighborsClassifier\n",
    "from sklearn.naive_bayes import GaussianNB\n",
    "from sklearn.tree import DecisionTreeClassifier\n",
    "from sklearn.model_selection import train_test_split\n",
    "from SCA.sca import jfs\n",
    "import matplotlib.pyplot as plt\n",
    "from sklearn.metrics import precision_score, recall_score, roc_auc_score,f1_score\n"
   ]
  },
  {
   "cell_type": "markdown",
   "id": "7006998f",
   "metadata": {},
   "source": [
    "Importing Data in CSV format"
   ]
  },
  {
   "cell_type": "code",
   "execution_count": null,
   "id": "6901bbe9",
   "metadata": {},
   "outputs": [],
   "source": [
    "data  = pd.read_csv('pc1_scaled.csv')\n",
    "data  = data.values\n",
    "feat  = np.asarray(data[:, 0:-1])\n",
    "label = np.asarray(data[:, -1])\n"
   ]
  },
  {
   "cell_type": "markdown",
   "id": "bc80e510",
   "metadata": {},
   "source": [
    "Initiating result files"
   ]
  },
  {
   "cell_type": "code",
   "execution_count": 4,
   "id": "a83020bd",
   "metadata": {},
   "outputs": [],
   "source": [
    "acc_results = []\n",
    "feature_results = []\n",
    "feature_results_col =[]\n",
    "roc_all = []\n",
    "f1_scores=[]\n",
    "t_elapsed =[]"
   ]
  },
  {
   "cell_type": "markdown",
   "id": "4261ec28",
   "metadata": {},
   "source": [
    "Code executing SCA/GA/CS and calulation of performance metrics"
   ]
  },
  {
   "cell_type": "code",
   "execution_count": null,
   "id": "c7665a8e",
   "metadata": {},
   "outputs": [],
   "source": [
    "for i in range(30): # Range defines no. of times SCA/GA/CS should run\n",
    "    # split data into train & validation (70 -- 30)\n",
    "    import time\n",
    "    t1= time.time()\n",
    "    x_train, x_test, y_train, y_test = train_test_split(feat, label, test_size=0.3, stratify=label)\n",
    "    fold = {'xt':x_train, 'yt':y_train, 'xv':x_test, 'yv':y_test}\n",
    "    \n",
    "    # parameter settings\n",
    "    k    = 5     # k-value in KNN\n",
    "    N    = 10    # number of particles\n",
    "    T    = 150      #maximum number of iterations\n",
    "    opts = {'k':k, 'fold':fold, 'N':N, 'T':T}\n",
    "    \n",
    "    # feature selection\n",
    "    fmdl = jfs(feat, label, opts)\n",
    "    sf   = fmdl['sf']\n",
    "    \n",
    "    # selected features\n",
    "    num_train = np.size(x_train, 0)\n",
    "    num_valid = np.size(x_test, 0)\n",
    "    x_train   = x_train[:, sf]\n",
    "    y_train   = y_train.reshape(num_train)  # Solve bug\n",
    "    x_valid   = x_test[:, sf]\n",
    "    y_valid   = y_test.reshape(num_valid)  # Solve bug\n",
    "    \n",
    "    mdl       = KNeighborsClassifier(n_neighbors=7) \n",
    "    mdl.fit(x_train, y_train)\n",
    "    \n",
    "    # accuracy\n",
    "    y_pred    = mdl.predict(x_valid)\n",
    "    y_pred_proba =    mdl.predict_proba(x_valid).T[1]\n",
    "    roc =   roc_auc_score(y_valid,y_pred_proba)\n",
    "    Acc       = np.sum(y_valid == y_pred)  / num_valid\n",
    "    f1 = f1_score(y_valid,y_pred)\n",
    "    print(\"Accuracy:\", 100 * Acc)\n",
    "    acc_results.append(Acc)\n",
    "    roc_all.append(roc)\n",
    "    f1_scores.append(f1)\n",
    "    # number of selected features\n",
    "    num_feat = fmdl['nf']\n",
    "    print(\"Feature Size:\", num_feat)\n",
    "    feature_results.append(num_feat)\n",
    "    print(sf)\n",
    "    feature_results_col.append(sf)\n",
    "    \n",
    "    # plot convergence\n",
    "    curve   = fmdl['c']\n",
    "    curve   = curve.reshape(np.size(curve,1))\n",
    "    x       = np.arange(0, opts['T'], 1.0) + 1.0\n",
    "    \n",
    "    fig, ax = plt.subplots()\n",
    "    ax.plot(x, curve, 'o-')\n",
    "    ax.set_xlabel('Number of Iterations')\n",
    "    ax.set_ylabel('Fitness')\n",
    "    ax.set_title('PSO')\n",
    "    ax.grid()\n",
    "    plt.show()\n",
    "    time.sleep(1)\n",
    "    t2= time.time()\n",
    "    t_elap = t2-t1\n",
    "    t_elapsed.append(t_elap)\n",
    "    i=i+1"
   ]
  },
  {
   "cell_type": "markdown",
   "id": "aa99d615",
   "metadata": {},
   "source": [
    "Saving results and converting them into CSVs for analysis"
   ]
  },
  {
   "cell_type": "code",
   "execution_count": null,
   "id": "fa42acb0",
   "metadata": {},
   "outputs": [],
   "source": [
    "df_acc =      pd.DataFrame(acc_results)\n",
    "df_feature=      pd.DataFrame(feature_results)\n",
    "df_cols=    pd.DataFrame(feature_results_col)\n",
    "df_roc = pd.DataFrame(roc_all)\n",
    "df_f1 = pd.DataFrame(f1_scores)\n",
    "df_time = pd.DataFrame(t_elapsed)\n",
    "writer = pd.ExcelWriter('SCA15030.xlsx', engine='xlsxwriter')\n",
    "df_acc.to_excel(writer, sheet_name='acc', index=False)\n",
    "df_feature.to_excel(writer, sheet_name='fe', index=False)\n",
    "df_cols.to_excel(writer, sheet_name='co', index=False)\n",
    "df_roc.to_excel(writer,sheet_name='roc',index = False)\n",
    "df_f1.to_excel(writer,sheet_name ='f1',index= False)\n",
    "df_time.to_excel(writer, sheet_name = 'time',index =False)\n",
    "writer.save()"
   ]
  }
 ],
 "metadata": {
  "kernelspec": {
   "display_name": "Python 3 (ipykernel)",
   "language": "python",
   "name": "python3"
  },
  "language_info": {
   "codemirror_mode": {
    "name": "ipython",
    "version": 3
   },
   "file_extension": ".py",
   "mimetype": "text/x-python",
   "name": "python",
   "nbconvert_exporter": "python",
   "pygments_lexer": "ipython3",
   "version": "3.8.12"
  }
 },
 "nbformat": 4,
 "nbformat_minor": 5
}
